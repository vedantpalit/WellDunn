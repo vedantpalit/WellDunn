{
  "nbformat": 4,
  "nbformat_minor": 0,
  "metadata": {
    "colab": {
      "provenance": []
    },
    "kernelspec": {
      "name": "python3",
      "display_name": "Python 3"
    },
    "language_info": {
      "name": "python"
    }
  },
  "cells": [
    {
      "cell_type": "code",
      "execution_count": 6,
      "metadata": {
        "id": "TfI_ZKUKFLYm"
      },
      "outputs": [],
      "source": [
        "import pickle\n",
        "token_score = pickle.load(open( \"166samples_6dim.pkl\", \"rb\" ) ) #635samples_6dim.pkl"
      ]
    },
    {
      "cell_type": "code",
      "source": [
        "text = \"\"\n",
        "for token, shade in token_score.items():\n",
        "        # print(token,\":\",shade)\n",
        "        # shade = int(255 * score)  # calculate shade between 0 and 255\n",
        "        if shade!=0:\n",
        "          color = f\"\\033[48;2;{shade*150};0;0m\"  # create color with specified shade of red\n",
        "          text += f\"{color}{token}\\033[0m \"  # add color to token and append to text\n",
        "        else:\n",
        "          color = f\"\\033[48;2;{(255-shade)*150};255;255m\"  # create color with specified shade of red\n",
        "          text += f\"{color}{token}\\033[0m \"\n",
        "\n",
        "        # f.write(f'{text}\\n\\n')\n",
        "print(text)"
      ],
      "metadata": {
        "colab": {
          "base_uri": "https://localhost:8080/"
        },
        "id": "3Hfjv3iyFVEr",
        "outputId": "a2fe4ab6-23c6-4247-873e-75be6781875e"
      },
      "execution_count": 7,
      "outputs": [
        {
          "output_type": "stream",
          "name": "stdout",
          "text": [
            "\u001b[48;2;38250;255;255m<s>\u001b[0m \u001b[48;2;38250;255;255mI\u001b[0m \u001b[48;2;38250;255;255mdon\u001b[0m \u001b[48;2;38250;255;255mâĢ\u001b[0m \u001b[48;2;38250;255;255mļ\u001b[0m \u001b[48;2;38250;255;255mÃ\u001b[0m \u001b[48;2;38250;255;255mĦ\u001b[0m \u001b[48;2;38250;255;255mÃ´\u001b[0m \u001b[48;2;750;0;0mt\u001b[0m \u001b[48;2;150;0;0mcry\u001b[0m \u001b[48;2;150;0;0manymore\u001b[0m \u001b[48;2;3300;0;0m.\u001b[0m \u001b[48;2;38250;255;255mwant\u001b[0m \u001b[48;2;600;0;0mto\u001b[0m \u001b[48;2;450;0;0mbe\u001b[0m \u001b[48;2;600;0;0maround\u001b[0m \u001b[48;2;1050;0;0manyone\u001b[0m \u001b[48;2;38250;255;255mdo\u001b[0m \u001b[48;2;38250;255;255manything\u001b[0m \u001b[48;2;38250;255;255mWork\u001b[0m \u001b[48;2;38250;255;255mkeeps\u001b[0m \u001b[48;2;38250;255;255mme\u001b[0m \u001b[48;2;38250;255;255mgetting\u001b[0m \u001b[48;2;38250;255;255mup\u001b[0m \u001b[48;2;38250;255;255meveryday\u001b[0m \u001b[48;2;38250;255;255mWithout\u001b[0m \u001b[48;2;900;0;0mit\u001b[0m \u001b[48;2;38250;255;255mwould\u001b[0m \u001b[48;2;38250;255;255mprobably\u001b[0m \u001b[48;2;38250;255;255mstare\u001b[0m \u001b[48;2;38250;255;255mat\u001b[0m \u001b[48;2;38250;255;255mmy\u001b[0m \u001b[48;2;38250;255;255mceiling\u001b[0m \u001b[48;2;38250;255;255muntil\u001b[0m \u001b[48;2;38250;255;255mpassed\u001b[0m \u001b[48;2;38250;255;255mback\u001b[0m \u001b[48;2;38250;255;255mout\u001b[0m \u001b[48;2;38250;255;255magain\u001b[0m \u001b[48;2;38250;255;255mm\u001b[0m \u001b[48;2;38250;255;255mso\u001b[0m \u001b[48;2;38250;255;255mtired\u001b[0m \u001b[48;2;300;0;0mknow\u001b[0m \u001b[48;2;450;0;0mif\u001b[0m \u001b[48;2;300;0;0mthere\u001b[0m \u001b[48;2;150;0;0ms\u001b[0m \u001b[48;2;900;0;0ma\u001b[0m \u001b[48;2;150;0;0mquestion\u001b[0m \u001b[48;2;1200;0;0min\u001b[0m \u001b[48;2;300;0;0mthis\u001b[0m \u001b[48;2;450;0;0mThere\u001b[0m \u001b[48;2;450;0;0mjust\u001b[0m \u001b[48;2;450;0;0misn\u001b[0m \u001b[48;2;900;0;0melse\u001b[0m \u001b[48;2;300;0;0mtell\u001b[0m \u001b[48;2;38250;255;255m</s>\u001b[0m \u001b[48;2;38250;255;255m<pad>\u001b[0m \n"
          ]
        }
      ]
    },
    {
      "cell_type": "code",
      "source": [],
      "metadata": {
        "id": "8CMYsKSTbrrX"
      },
      "execution_count": null,
      "outputs": []
    }
  ]
}